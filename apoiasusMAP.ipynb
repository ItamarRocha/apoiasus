{
  "nbformat": 4,
  "nbformat_minor": 0,
  "metadata": {
    "colab": {
      "name": "apoiasusMAP.ipynb",
      "provenance": [],
      "authorship_tag": "ABX9TyMpuK4U82fetI01bni3IQEj",
      "include_colab_link": true
    },
    "kernelspec": {
      "name": "python3",
      "display_name": "Python 3"
    }
  },
  "cells": [
    {
      "cell_type": "markdown",
      "metadata": {
        "id": "view-in-github",
        "colab_type": "text"
      },
      "source": [
        "<a href=\"https://colab.research.google.com/github/romulokps/apoiasus/blob/master/apoiasusMAP.ipynb\" target=\"_parent\"><img src=\"https://colab.research.google.com/assets/colab-badge.svg\" alt=\"Open In Colab\"/></a>"
      ]
    },
    {
      "cell_type": "code",
      "metadata": {
        "id": "Z95eAEDte9vf",
        "colab_type": "code",
        "colab": {}
      },
      "source": [
        "#conectar com github\n",
        "#site = https://sgtes.unasus.gov.br/apoiasus/login/listadevagas.asp\n",
        "path = 'https://sgtes.unasus.gov.br/apoiasus/login/listadevagas.asp'"
      ],
      "execution_count": null,
      "outputs": []
    },
    {
      "cell_type": "code",
      "metadata": {
        "id": "s_po21ewfweQ",
        "colab_type": "code",
        "colab": {}
      },
      "source": [
        "import pandas as pd\n",
        "import numpy as np"
      ],
      "execution_count": null,
      "outputs": []
    },
    {
      "cell_type": "code",
      "metadata": {
        "id": "Naq8SY9shH-N",
        "colab_type": "code",
        "colab": {}
      },
      "source": [
        "#importa dados\n",
        "import pandas as pd\n",
        "url ='https://sgtes.unasus.gov.br/apoiasus/login/listadevagas.asp'\n",
        "tables = pd.read_html(url) # Returns list of all tables on page\n",
        "tb = tables[0] # Select table of interest\n",
        "\n",
        "#importa cidades\n",
        "cidades = pd.read_csv('https://github.com/romulokps/apoiasus/raw/master/populacaoBR2.csv')\n"
      ],
      "execution_count": 37,
      "outputs": []
    },
    {
      "cell_type": "code",
      "metadata": {
        "id": "SFczx2gUrO-p",
        "colab_type": "code",
        "colab": {
          "base_uri": "https://localhost:8080/",
          "height": 419
        },
        "outputId": "3c325d16-6130-4e4d-8df6-7c40b8fda1bb"
      },
      "source": [
        "df = pd.merge(tb, cidades, left_on = ['UF','Município'], right_on = ['estado','cidade'])\n",
        "df"
      ],
      "execution_count": 38,
      "outputs": [
        {
          "output_type": "execute_result",
          "data": {
            "text/html": [
              "<div>\n",
              "<style scoped>\n",
              "    .dataframe tbody tr th:only-of-type {\n",
              "        vertical-align: middle;\n",
              "    }\n",
              "\n",
              "    .dataframe tbody tr th {\n",
              "        vertical-align: top;\n",
              "    }\n",
              "\n",
              "    .dataframe thead th {\n",
              "        text-align: right;\n",
              "    }\n",
              "</style>\n",
              "<table border=\"1\" class=\"dataframe\">\n",
              "  <thead>\n",
              "    <tr style=\"text-align: right;\">\n",
              "      <th></th>\n",
              "      <th>UF</th>\n",
              "      <th>Município</th>\n",
              "      <th>Medicina</th>\n",
              "      <th>Enfermagem</th>\n",
              "      <th>Farmácia</th>\n",
              "      <th>Fisioterapia</th>\n",
              "      <th>Unnamed: 0</th>\n",
              "      <th>ibgeID</th>\n",
              "      <th>cidade</th>\n",
              "      <th>estado</th>\n",
              "      <th>pop</th>\n",
              "    </tr>\n",
              "  </thead>\n",
              "  <tbody>\n",
              "    <tr>\n",
              "      <th>0</th>\n",
              "      <td>AC</td>\n",
              "      <td>Mâncio Lima</td>\n",
              "      <td>2</td>\n",
              "      <td>8</td>\n",
              "      <td>0</td>\n",
              "      <td>0</td>\n",
              "      <td>63</td>\n",
              "      <td>1200336</td>\n",
              "      <td>Mâncio Lima</td>\n",
              "      <td>AC</td>\n",
              "      <td>18977</td>\n",
              "    </tr>\n",
              "    <tr>\n",
              "      <th>1</th>\n",
              "      <td>AL</td>\n",
              "      <td>Santana do Ipanema</td>\n",
              "      <td>2</td>\n",
              "      <td>0</td>\n",
              "      <td>0</td>\n",
              "      <td>0</td>\n",
              "      <td>1737</td>\n",
              "      <td>2708006</td>\n",
              "      <td>Santana do Ipanema</td>\n",
              "      <td>AL</td>\n",
              "      <td>47654</td>\n",
              "    </tr>\n",
              "    <tr>\n",
              "      <th>2</th>\n",
              "      <td>BA</td>\n",
              "      <td>Abaré</td>\n",
              "      <td>3</td>\n",
              "      <td>0</td>\n",
              "      <td>0</td>\n",
              "      <td>0</td>\n",
              "      <td>1830</td>\n",
              "      <td>2900207</td>\n",
              "      <td>Abaré</td>\n",
              "      <td>BA</td>\n",
              "      <td>20086</td>\n",
              "    </tr>\n",
              "    <tr>\n",
              "      <th>3</th>\n",
              "      <td>BA</td>\n",
              "      <td>Amargosa</td>\n",
              "      <td>0</td>\n",
              "      <td>4</td>\n",
              "      <td>2</td>\n",
              "      <td>0</td>\n",
              "      <td>1839</td>\n",
              "      <td>2901007</td>\n",
              "      <td>Amargosa</td>\n",
              "      <td>BA</td>\n",
              "      <td>37241</td>\n",
              "    </tr>\n",
              "    <tr>\n",
              "      <th>4</th>\n",
              "      <td>BA</td>\n",
              "      <td>Barreiras</td>\n",
              "      <td>0</td>\n",
              "      <td>3</td>\n",
              "      <td>0</td>\n",
              "      <td>6</td>\n",
              "      <td>1867</td>\n",
              "      <td>2903201</td>\n",
              "      <td>Barreiras</td>\n",
              "      <td>BA</td>\n",
              "      <td>155439</td>\n",
              "    </tr>\n",
              "    <tr>\n",
              "      <th>...</th>\n",
              "      <td>...</td>\n",
              "      <td>...</td>\n",
              "      <td>...</td>\n",
              "      <td>...</td>\n",
              "      <td>...</td>\n",
              "      <td>...</td>\n",
              "      <td>...</td>\n",
              "      <td>...</td>\n",
              "      <td>...</td>\n",
              "      <td>...</td>\n",
              "      <td>...</td>\n",
              "    </tr>\n",
              "    <tr>\n",
              "      <th>324</th>\n",
              "      <td>SP</td>\n",
              "      <td>São Carlos</td>\n",
              "      <td>2</td>\n",
              "      <td>0</td>\n",
              "      <td>0</td>\n",
              "      <td>0</td>\n",
              "      <td>3815</td>\n",
              "      <td>3548906</td>\n",
              "      <td>São Carlos</td>\n",
              "      <td>SP</td>\n",
              "      <td>251983</td>\n",
              "    </tr>\n",
              "    <tr>\n",
              "      <th>325</th>\n",
              "      <td>SP</td>\n",
              "      <td>São Paulo</td>\n",
              "      <td>2</td>\n",
              "      <td>0</td>\n",
              "      <td>1</td>\n",
              "      <td>0</td>\n",
              "      <td>3831</td>\n",
              "      <td>3550308</td>\n",
              "      <td>São Paulo</td>\n",
              "      <td>SP</td>\n",
              "      <td>12252023</td>\n",
              "    </tr>\n",
              "    <tr>\n",
              "      <th>326</th>\n",
              "      <td>SP</td>\n",
              "      <td>Tabapuã</td>\n",
              "      <td>3</td>\n",
              "      <td>0</td>\n",
              "      <td>0</td>\n",
              "      <td>0</td>\n",
              "      <td>3855</td>\n",
              "      <td>3552601</td>\n",
              "      <td>Tabapuã</td>\n",
              "      <td>SP</td>\n",
              "      <td>12407</td>\n",
              "    </tr>\n",
              "    <tr>\n",
              "      <th>327</th>\n",
              "      <td>SP</td>\n",
              "      <td>Taubaté</td>\n",
              "      <td>14</td>\n",
              "      <td>6</td>\n",
              "      <td>0</td>\n",
              "      <td>0</td>\n",
              "      <td>3873</td>\n",
              "      <td>3554102</td>\n",
              "      <td>Taubaté</td>\n",
              "      <td>SP</td>\n",
              "      <td>314924</td>\n",
              "    </tr>\n",
              "    <tr>\n",
              "      <th>328</th>\n",
              "      <td>SP</td>\n",
              "      <td>Tupi Paulista</td>\n",
              "      <td>3</td>\n",
              "      <td>0</td>\n",
              "      <td>0</td>\n",
              "      <td>0</td>\n",
              "      <td>3886</td>\n",
              "      <td>3555109</td>\n",
              "      <td>Tupi Paulista</td>\n",
              "      <td>SP</td>\n",
              "      <td>15495</td>\n",
              "    </tr>\n",
              "  </tbody>\n",
              "</table>\n",
              "<p>329 rows × 11 columns</p>\n",
              "</div>"
            ],
            "text/plain": [
              "     UF           Município  Medicina  ...              cidade  estado       pop\n",
              "0    AC         Mâncio Lima         2  ...         Mâncio Lima      AC     18977\n",
              "1    AL  Santana do Ipanema         2  ...  Santana do Ipanema      AL     47654\n",
              "2    BA               Abaré         3  ...               Abaré      BA     20086\n",
              "3    BA            Amargosa         0  ...            Amargosa      BA     37241\n",
              "4    BA           Barreiras         0  ...           Barreiras      BA    155439\n",
              "..   ..                 ...       ...  ...                 ...     ...       ...\n",
              "324  SP          São Carlos         2  ...          São Carlos      SP    251983\n",
              "325  SP           São Paulo         2  ...           São Paulo      SP  12252023\n",
              "326  SP             Tabapuã         3  ...             Tabapuã      SP     12407\n",
              "327  SP             Taubaté        14  ...             Taubaté      SP    314924\n",
              "328  SP       Tupi Paulista         3  ...       Tupi Paulista      SP     15495\n",
              "\n",
              "[329 rows x 11 columns]"
            ]
          },
          "metadata": {
            "tags": []
          },
          "execution_count": 38
        }
      ]
    },
    {
      "cell_type": "code",
      "metadata": {
        "id": "yNtTcfN6yF3B",
        "colab_type": "code",
        "colab": {
          "base_uri": "https://localhost:8080/",
          "height": 255
        },
        "outputId": "3581b32a-7b9e-40dd-fcc5-5a30c428f0bd"
      },
      "source": [
        ""
      ],
      "execution_count": 40,
      "outputs": [
        {
          "output_type": "stream",
          "text": [
            "     UF           Município  Medicina  ...              cidade  estado       pop\n",
            "0    AC         Mâncio Lima         2  ...         Mâncio Lima      AC     18977\n",
            "1    AL  Santana do Ipanema         2  ...  Santana do Ipanema      AL     47654\n",
            "2    BA               Abaré         3  ...               Abaré      BA     20086\n",
            "3    BA            Amargosa         0  ...            Amargosa      BA     37241\n",
            "4    BA           Barreiras         0  ...           Barreiras      BA    155439\n",
            "..   ..                 ...       ...  ...                 ...     ...       ...\n",
            "324  SP          São Carlos         2  ...          São Carlos      SP    251983\n",
            "325  SP           São Paulo         2  ...           São Paulo      SP  12252023\n",
            "326  SP             Tabapuã         3  ...             Tabapuã      SP     12407\n",
            "327  SP             Taubaté        14  ...             Taubaté      SP    314924\n",
            "328  SP       Tupi Paulista         3  ...       Tupi Paulista      SP     15495\n",
            "\n",
            "[329 rows x 11 columns]\n"
          ],
          "name": "stdout"
        }
      ]
    },
    {
      "cell_type": "code",
      "metadata": {
        "id": "SyeALTr8yAgV",
        "colab_type": "code",
        "colab": {}
      },
      "source": [
        ""
      ],
      "execution_count": null,
      "outputs": []
    }
  ]
}